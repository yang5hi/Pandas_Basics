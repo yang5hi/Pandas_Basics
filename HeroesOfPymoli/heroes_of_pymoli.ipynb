{
 "cells": [
  {
   "cell_type": "markdown",
   "metadata": {},
   "source": [
    "## game company data analysis"
   ]
  },
  {
   "cell_type": "code",
   "execution_count": null,
   "metadata": {},
   "outputs": [],
   "source": [
    "#Dependencies\n",
    "import pandas as pd\n",
    "#Load in File from resources\n",
    "file=\"Resources/purchase_data.csv\""
   ]
  },
  {
   "cell_type": "code",
   "execution_count": null,
   "metadata": {},
   "outputs": [],
   "source": [
    "#Player Count ***Total Number of Players***\n"
   ]
  },
  {
   "cell_type": "markdown",
   "metadata": {},
   "source": [
    "Purchasing Analysis (Total)\n",
    "\n",
    "Number of Unique Items\n",
    "Average Purchase Price\n",
    "Total Number of Purchases\n",
    "Total Revenue\n"
   ]
  },
  {
   "cell_type": "markdown",
   "metadata": {},
   "source": [
    "Gender Demographics\n",
    "\n",
    "Percentage and Count of Male Players\n",
    "Percentage and Count of Female Players\n",
    "Percentage and Count of Other / Non-Disclosed"
   ]
  },
  {
   "cell_type": "markdown",
   "metadata": {},
   "source": [
    "Purchasing Analysis (Gender)\n",
    "\n",
    "The below each broken by gender\n",
    "\n",
    "Purchase Count\n",
    "Average Purchase Price\n",
    "Total Purchase Value\n",
    "Average Purchase Total per Person by Gender"
   ]
  },
  {
   "cell_type": "markdown",
   "metadata": {},
   "source": [
    "Age Demographics\n",
    "\n",
    "The below each broken into bins of 4 years (i.e. <10, 10-14, 15-19, etc.)\n",
    "\n",
    "Purchase Count\n",
    "Average Purchase Price\n",
    "Total Purchase Value\n",
    "Average Purchase Total per Person by Age Group"
   ]
  },
  {
   "cell_type": "markdown",
   "metadata": {},
   "source": [
    "Top Spenders\n",
    "\n",
    "Identify the the top 5 spenders in the game by total purchase value, then list (in a table):\n",
    "\n",
    "SN\n",
    "Purchase Count\n",
    "Average Purchase Price\n",
    "Total Purchase Value"
   ]
  },
  {
   "cell_type": "markdown",
   "metadata": {},
   "source": [
    "Most Popular Items\n",
    "\n",
    "Identify the 5 most popular items by purchase count, then list (in a table):\n",
    "\n",
    "Item ID\n",
    "Item Name\n",
    "Purchase Count\n",
    "Item Price\n",
    "Total Purchase Value"
   ]
  },
  {
   "cell_type": "markdown",
   "metadata": {},
   "source": [
    "Most Profitable Items\n",
    "\n",
    "Identify the 5 most profitable items by total purchase value, then list (in a table):\n",
    "\n",
    "Item ID\n",
    "Item Name\n",
    "Purchase Count\n",
    "Item Price\n",
    "Total Purchase Value"
   ]
  },
  {
   "cell_type": "markdown",
   "metadata": {},
   "source": [
    "As final considerations:\n",
    "\n",
    "You must use the Pandas Library and the Jupyter Notebook.\n",
    "You must submit a link to your Github/Git Lab repo that contains your Jupyter Notebook.\n",
    "You must include a written description of three observable trends based on the data.\n",
    "See Example Solution for a reference on expected format."
   ]
  },
  {
   "cell_type": "code",
   "execution_count": null,
   "metadata": {},
   "outputs": [],
   "source": [
    "Hints and Considerations\n",
    "\n",
    "\n",
    "These are challenging activities for a number of reasons. For one, these activities will require you to analyze thousands of records. Hacking through the data to look for obvious trends in Excel is just not a feasible option. The size of the data may seem daunting, but pandas will allow you to efficiently parse through it.\n",
    "\n",
    "\n",
    "Second, these activities will also challenge you by requiring you to learn on your feet. Don't fool yourself into thinking: \"I need to study pandas more closely before diving in.\" Get the basic gist of the library and then immediately get to work. When facing a daunting task, it's easy to think: \"I'm just not ready to tackle it yet.\" But that's the surest way to never succeed. Learning to program requires one to constantly tinker, experiment, and learn on the fly. You are doing exactly the right thing, if you find yourself constantly practicing Google-Fu and diving into documentation. There is just no way (or reason) to try and memorize it all. Online references are available for you to use when you need them. So use them!\n",
    "\n",
    "\n",
    "Take each of these tasks one at a time. Begin your work, answering the basic questions: \"How do I import the data?\" \"How do I convert the data into a DataFrame?\" \"How do I build the first table?\" Don't get intimidated by the number of asks. Many of them are repetitive in nature with just a few tweaks. Be persistent and creative!\n",
    "\n",
    "\n",
    "Expect these exercises to take time! Don't get discouraged if you find yourself spending  hours initially with little progress. Force yourself to deal with the discomfort of not knowing and forge ahead. Consider these hours an investment in your future!\n",
    "\n",
    "\n",
    "As always, feel encouraged to work in groups and get help from your TAs and Instructor. Just remember, true success comes from mastery and not a completed homework assignment. So challenge yourself to truly succeed!\n",
    "\n",
    "\n",
    "Ensure your repository has regular commits (i.e. 20+ commits) and a thorough README.md file"
   ]
  }
 ],
 "metadata": {
  "kernelspec": {
   "display_name": "Python 3",
   "language": "python",
   "name": "python3"
  },
  "language_info": {
   "codemirror_mode": {
    "name": "ipython",
    "version": 3
   },
   "file_extension": ".py",
   "mimetype": "text/x-python",
   "name": "python",
   "nbconvert_exporter": "python",
   "pygments_lexer": "ipython3",
   "version": "3.8.5"
  }
 },
 "nbformat": 4,
 "nbformat_minor": 4
}
