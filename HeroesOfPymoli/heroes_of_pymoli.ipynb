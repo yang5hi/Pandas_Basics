{
 "cells": [
  {
   "cell_type": "markdown",
   "metadata": {},
   "source": [
    "# Game Company Data Analysis"
   ]
  },
  {
   "cell_type": "code",
   "execution_count": 84,
   "metadata": {},
   "outputs": [
    {
     "name": "stdout",
     "output_type": "stream",
     "text": [
      "Index(['Purchase ID', 'SN', 'Age', 'Gender', 'Item ID', 'Item Name', 'Price'], dtype='object')\n",
      "\n",
      "780\n",
      "\n",
      "Purchase ID    780\n",
      "SN             780\n",
      "Age            780\n",
      "Gender         780\n",
      "Item ID        780\n",
      "Item Name      780\n",
      "Price          780\n",
      "dtype: int64\n",
      "\n"
     ]
    },
    {
     "data": {
      "text/html": [
       "<div>\n",
       "<style scoped>\n",
       "    .dataframe tbody tr th:only-of-type {\n",
       "        vertical-align: middle;\n",
       "    }\n",
       "\n",
       "    .dataframe tbody tr th {\n",
       "        vertical-align: top;\n",
       "    }\n",
       "\n",
       "    .dataframe thead th {\n",
       "        text-align: right;\n",
       "    }\n",
       "</style>\n",
       "<table border=\"1\" class=\"dataframe\">\n",
       "  <thead>\n",
       "    <tr style=\"text-align: right;\">\n",
       "      <th></th>\n",
       "      <th>Purchase ID</th>\n",
       "      <th>SN</th>\n",
       "      <th>Age</th>\n",
       "      <th>Gender</th>\n",
       "      <th>Item ID</th>\n",
       "      <th>Item Name</th>\n",
       "      <th>Price</th>\n",
       "    </tr>\n",
       "  </thead>\n",
       "  <tbody>\n",
       "    <tr>\n",
       "      <th>0</th>\n",
       "      <td>0</td>\n",
       "      <td>Lisim78</td>\n",
       "      <td>20</td>\n",
       "      <td>Male</td>\n",
       "      <td>108</td>\n",
       "      <td>Extraction, Quickblade Of Trembling Hands</td>\n",
       "      <td>3.53</td>\n",
       "    </tr>\n",
       "    <tr>\n",
       "      <th>1</th>\n",
       "      <td>1</td>\n",
       "      <td>Lisovynya38</td>\n",
       "      <td>40</td>\n",
       "      <td>Male</td>\n",
       "      <td>143</td>\n",
       "      <td>Frenzied Scimitar</td>\n",
       "      <td>1.56</td>\n",
       "    </tr>\n",
       "    <tr>\n",
       "      <th>2</th>\n",
       "      <td>2</td>\n",
       "      <td>Ithergue48</td>\n",
       "      <td>24</td>\n",
       "      <td>Male</td>\n",
       "      <td>92</td>\n",
       "      <td>Final Critic</td>\n",
       "      <td>4.88</td>\n",
       "    </tr>\n",
       "    <tr>\n",
       "      <th>3</th>\n",
       "      <td>3</td>\n",
       "      <td>Chamassasya86</td>\n",
       "      <td>24</td>\n",
       "      <td>Male</td>\n",
       "      <td>100</td>\n",
       "      <td>Blindscythe</td>\n",
       "      <td>3.27</td>\n",
       "    </tr>\n",
       "    <tr>\n",
       "      <th>4</th>\n",
       "      <td>4</td>\n",
       "      <td>Iskosia90</td>\n",
       "      <td>23</td>\n",
       "      <td>Male</td>\n",
       "      <td>131</td>\n",
       "      <td>Fury</td>\n",
       "      <td>1.44</td>\n",
       "    </tr>\n",
       "  </tbody>\n",
       "</table>\n",
       "</div>"
      ],
      "text/plain": [
       "   Purchase ID             SN  Age Gender  Item ID  \\\n",
       "0            0        Lisim78   20   Male      108   \n",
       "1            1    Lisovynya38   40   Male      143   \n",
       "2            2     Ithergue48   24   Male       92   \n",
       "3            3  Chamassasya86   24   Male      100   \n",
       "4            4      Iskosia90   23   Male      131   \n",
       "\n",
       "                                   Item Name  Price  \n",
       "0  Extraction, Quickblade Of Trembling Hands   3.53  \n",
       "1                          Frenzied Scimitar   1.56  \n",
       "2                               Final Critic   4.88  \n",
       "3                                Blindscythe   3.27  \n",
       "4                                       Fury   1.44  "
      ]
     },
     "execution_count": 84,
     "metadata": {},
     "output_type": "execute_result"
    }
   ],
   "source": [
    "#Dependencies\n",
    "import pandas as pd\n",
    "#Load in File from resources\n",
    "file=\"Resources/purchase_data.csv\"\n",
    "#read and display with pandas\n",
    "original_df=pd.read_csv(file)\n",
    "\n",
    "\n",
    "\n",
    "\n",
    "\n",
    "#list all the columns the table provides\n",
    "original_df.head()\n",
    "#list all the column names\n",
    "print(original_df.columns)\n",
    "print()\n",
    "print(len(original_df))\n",
    "print()\n",
    "# Identify incomplete rows\n",
    "print(original_df.count())\n",
    "print()\n",
    "\n",
    "\n",
    "\n",
    "\n",
    "\n",
    "\n",
    "df=original_df\n",
    "df.head()"
   ]
  },
  {
   "cell_type": "markdown",
   "metadata": {},
   "source": [
    "***Player Count***"
   ]
  },
  {
   "cell_type": "code",
   "execution_count": 85,
   "metadata": {},
   "outputs": [
    {
     "name": "stdout",
     "output_type": "stream",
     "text": [
      "The total number of players is 576\n"
     ]
    }
   ],
   "source": [
    "#Total Number of Players\n",
    "player_unique=df[\"SN\"].unique()\n",
    "#print(player_unique)\n",
    "print(f\"The total number of players is {len(player_unique)}\")"
   ]
  },
  {
   "cell_type": "markdown",
   "metadata": {},
   "source": [
    "***Purchasing Analysis (Total)***"
   ]
  },
  {
   "cell_type": "code",
   "execution_count": 86,
   "metadata": {},
   "outputs": [
    {
     "name": "stdout",
     "output_type": "stream",
     "text": [
      "Final Critic                                    13\n",
      "Oathbreaker, Last Hope of the Breaking Storm    12\n",
      "Persuasion                                       9\n",
      "Nirvana                                          9\n",
      "Extraction, Quickblade Of Trembling Hands        9\n",
      "                                                ..\n",
      "The Decapitator                                  1\n",
      "Exiled Mithril Longsword                         1\n",
      "Betrayer                                         1\n",
      "Riddle, Tribute of Ended Dreams                  1\n",
      "Endbringer                                       1\n",
      "Name: Item Name, Length: 179, dtype: int64\n",
      "92     13\n",
      "178    12\n",
      "108     9\n",
      "132     9\n",
      "82      9\n",
      "       ..\n",
      "104     1\n",
      "27      1\n",
      "134     1\n",
      "118     1\n",
      "91      1\n",
      "Name: Item ID, Length: 179, dtype: int64\n",
      "179\n",
      "3.03\n",
      "780\n",
      "2379.77\n"
     ]
    },
    {
     "data": {
      "text/html": [
       "<div>\n",
       "<style scoped>\n",
       "    .dataframe tbody tr th:only-of-type {\n",
       "        vertical-align: middle;\n",
       "    }\n",
       "\n",
       "    .dataframe tbody tr th {\n",
       "        vertical-align: top;\n",
       "    }\n",
       "\n",
       "    .dataframe thead th {\n",
       "        text-align: right;\n",
       "    }\n",
       "</style>\n",
       "<table border=\"1\" class=\"dataframe\">\n",
       "  <thead>\n",
       "    <tr style=\"text-align: right;\">\n",
       "      <th></th>\n",
       "      <th>Discription</th>\n",
       "      <th>Value</th>\n",
       "    </tr>\n",
       "  </thead>\n",
       "  <tbody>\n",
       "    <tr>\n",
       "      <th>0</th>\n",
       "      <td>Number of Unique Items</td>\n",
       "      <td>179</td>\n",
       "    </tr>\n",
       "    <tr>\n",
       "      <th>1</th>\n",
       "      <td>Average Purchase Price</td>\n",
       "      <td>$3.05</td>\n",
       "    </tr>\n",
       "    <tr>\n",
       "      <th>2</th>\n",
       "      <td>Total Number of Purchasese</td>\n",
       "      <td>780</td>\n",
       "    </tr>\n",
       "    <tr>\n",
       "      <th>3</th>\n",
       "      <td>Total Revenue</td>\n",
       "      <td>$2,379.77</td>\n",
       "    </tr>\n",
       "  </tbody>\n",
       "</table>\n",
       "</div>"
      ],
      "text/plain": [
       "                  Discription      Value\n",
       "0      Number of Unique Items        179\n",
       "1      Average Purchase Price      $3.05\n",
       "2  Total Number of Purchasese        780\n",
       "3               Total Revenue  $2,379.77"
      ]
     },
     "execution_count": 86,
     "metadata": {},
     "output_type": "execute_result"
    }
   ],
   "source": [
    "print(df['Item Name'].value_counts())\n",
    "print(df['Item ID'].value_counts())\n",
    "#number of unique items\n",
    "unique_items=df[\"Item Name\"].unique()\n",
    "print(len(unique_items))\n",
    "print(price_mean)\n",
    "#Total Number of Purchases\n",
    "print(df[\"Price\"].count())\n",
    "#Total revenue\n",
    "purchase_total=df[\"Price\"].sum()\n",
    "print(purchase_total)\n",
    "purchase_mean=purchase_total/df['Price'].count()\n",
    "purchasing_analysis_df=pd.DataFrame({'Discription':['Number of Unique Items','Average Purchase Price',\n",
    "                                                    'Total Number of Purchasese','Total Revenue'],\n",
    "                                     'Value':[(len(unique_items)),\"${:,.2f}\".format(purchase_mean),\n",
    "                                              (df['Price'].count()),\"${:,.2f}\".format(purchase_total)]})\n",
    "purchasing_analysis_df"
   ]
  },
  {
   "cell_type": "markdown",
   "metadata": {},
   "source": [
    "***Gender Demographics***"
   ]
  },
  {
   "cell_type": "code",
   "execution_count": 83,
   "metadata": {},
   "outputs": [
    {
     "name": "stdout",
     "output_type": "stream",
     "text": [
      "Male                     484\n",
      "Female                    81\n",
      "Other / Non-Disclosed     11\n",
      "Name: Gender, dtype: int64\n"
     ]
    },
    {
     "data": {
      "text/html": [
       "<div>\n",
       "<style scoped>\n",
       "    .dataframe tbody tr th:only-of-type {\n",
       "        vertical-align: middle;\n",
       "    }\n",
       "\n",
       "    .dataframe tbody tr th {\n",
       "        vertical-align: top;\n",
       "    }\n",
       "\n",
       "    .dataframe thead th {\n",
       "        text-align: right;\n",
       "    }\n",
       "</style>\n",
       "<table border=\"1\" class=\"dataframe\">\n",
       "  <thead>\n",
       "    <tr style=\"text-align: right;\">\n",
       "      <th></th>\n",
       "      <th>Gender</th>\n",
       "      <th>Count</th>\n",
       "      <th>Percentage</th>\n",
       "    </tr>\n",
       "  </thead>\n",
       "  <tbody>\n",
       "    <tr>\n",
       "      <th>0</th>\n",
       "      <td>Male</td>\n",
       "      <td>484</td>\n",
       "      <td>84.03%</td>\n",
       "    </tr>\n",
       "    <tr>\n",
       "      <th>1</th>\n",
       "      <td>Female</td>\n",
       "      <td>81</td>\n",
       "      <td>14.06%</td>\n",
       "    </tr>\n",
       "    <tr>\n",
       "      <th>2</th>\n",
       "      <td>Other/Non-Disclosed</td>\n",
       "      <td>11</td>\n",
       "      <td>1.91%</td>\n",
       "    </tr>\n",
       "  </tbody>\n",
       "</table>\n",
       "</div>"
      ],
      "text/plain": [
       "                Gender  Count Percentage\n",
       "0                 Male    484     84.03%\n",
       "1               Female     81     14.06%\n",
       "2  Other/Non-Disclosed     11      1.91%"
      ]
     },
     "execution_count": 83,
     "metadata": {},
     "output_type": "execute_result"
    }
   ],
   "source": [
    "gender_df=df.drop_duplicates(subset=['SN'])\n",
    "gender_count=gender_df[\"Gender\"].value_counts()\n",
    "print(gender_count)\n",
    "#Percentage and Count of Male Players\n",
    "male_count=gender_count['Male']\n",
    "male_percent=gender_count[\"Male\"]/gender_df['Gender'].count()*100\n",
    "#Percentage and Count of Female Players\n",
    "female_count=gender_count['Female']\n",
    "female_percent=gender_count[\"Female\"]/gender_df['Gender'].count()*100\n",
    "#Percentage and Count of Other / Non-Disclosed\n",
    "other_gender_count=gender_count['Other / Non-Disclosed']\n",
    "other_gender_percent=gender_count[\"Other / Non-Disclosed\"]/gender_df['Gender'].count()*100\n",
    "gender_demographics_df=pd.DataFrame({'Gender':['Male','Female','Other/Non-Disclosed'],\n",
    "                                     'Count':[male_count,female_count, other_gender_count],\n",
    "                                     'Percentage':[\"{:,.2f}%\".format(male_percent), \"{:,.2f}%\".format(female_percent),\n",
    "                                                      \"{:,.2f}%\".format(other_gender_percent)]})\n",
    "gender_demographics_df"
   ]
  },
  {
   "cell_type": "markdown",
   "metadata": {},
   "source": [
    "***Purchasing Analysis (Gender)***\n",
    "\n",
    "The below each broken by gender\n",
    "\n",
    "Purchase Count\n",
    "Average Purchase Price\n",
    "Total Purchase Value\n",
    "Average Purchase Total per Person by Gender"
   ]
  },
  {
   "cell_type": "code",
   "execution_count": 117,
   "metadata": {},
   "outputs": [
    {
     "name": "stdout",
     "output_type": "stream",
     "text": [
      "                       Price   SN\n",
      "Gender                           \n",
      "Female                   113  113\n",
      "Male                     652  652\n",
      "Other / Non-Disclosed     15   15\n",
      "                          Price\n",
      "Gender                         \n",
      "Female                 3.203009\n",
      "Male                   3.017853\n",
      "Other / Non-Disclosed  3.346000\n",
      "                         Price\n",
      "Gender                        \n",
      "Female                  361.94\n",
      "Male                   1967.64\n",
      "Other / Non-Disclosed    50.19\n",
      "4.468395061728394\n",
      "4.06537190082645\n",
      "4.5627272727272725\n"
     ]
    },
    {
     "data": {
      "text/html": [
       "<div>\n",
       "<style scoped>\n",
       "    .dataframe tbody tr th:only-of-type {\n",
       "        vertical-align: middle;\n",
       "    }\n",
       "\n",
       "    .dataframe tbody tr th {\n",
       "        vertical-align: top;\n",
       "    }\n",
       "\n",
       "    .dataframe thead th {\n",
       "        text-align: right;\n",
       "    }\n",
       "</style>\n",
       "<table border=\"1\" class=\"dataframe\">\n",
       "  <thead>\n",
       "    <tr style=\"text-align: right;\">\n",
       "      <th></th>\n",
       "      <th>Gender</th>\n",
       "      <th>Purchase Count</th>\n",
       "      <th>Average Purchase Price</th>\n",
       "      <th>Total Purchase Value</th>\n",
       "      <th>Average Purchase Total per Person by Gender</th>\n",
       "    </tr>\n",
       "  </thead>\n",
       "  <tbody>\n",
       "    <tr>\n",
       "      <th>0</th>\n",
       "      <td>Female</td>\n",
       "      <td>113</td>\n",
       "      <td>$3.20</td>\n",
       "      <td>$361.94</td>\n",
       "      <td>$4.47</td>\n",
       "    </tr>\n",
       "    <tr>\n",
       "      <th>1</th>\n",
       "      <td>Male</td>\n",
       "      <td>652</td>\n",
       "      <td>$3.02</td>\n",
       "      <td>$1,967.64</td>\n",
       "      <td>$4.07</td>\n",
       "    </tr>\n",
       "    <tr>\n",
       "      <th>2</th>\n",
       "      <td>Other / Non-Disclosed</td>\n",
       "      <td>15</td>\n",
       "      <td>$3.35</td>\n",
       "      <td>$50.19</td>\n",
       "      <td>$4.56</td>\n",
       "    </tr>\n",
       "  </tbody>\n",
       "</table>\n",
       "</div>"
      ],
      "text/plain": [
       "                  Gender  Purchase Count Average Purchase Price  \\\n",
       "0                 Female             113                  $3.20   \n",
       "1                   Male             652                  $3.02   \n",
       "2  Other / Non-Disclosed              15                  $3.35   \n",
       "\n",
       "  Total Purchase Value Average Purchase Total per Person by Gender  \n",
       "0              $361.94                                       $4.47  \n",
       "1            $1,967.64                                       $4.07  \n",
       "2               $50.19                                       $4.56  "
      ]
     },
     "execution_count": 117,
     "metadata": {},
     "output_type": "execute_result"
    }
   ],
   "source": [
    "pag_df=df[[\"Gender\",\"Price\",\"SN\"]]\n",
    "purchase_count_gender=pag_df.groupby(['Gender']).count()\n",
    "average_price_gender=pag_df.groupby(['Gender']).mean()\n",
    "purchase_total_gender=pag_df.groupby(['Gender']).sum()\n",
    "\n",
    "print(purchase_count_gender)\n",
    "print(average_price_gender)\n",
    "print(purchase_total_gender)\n",
    "person_purchase_male=pag_df.loc[df[\"Gender\"]==\"Male\",:].groupby(['SN']).sum()\n",
    "person_purchase_female=pag_df.loc[df[\"Gender\"]==\"Female\",:].groupby(['SN']).sum()\n",
    "person_purchase_other=pag_df.loc[df[\"Gender\"]==\"Other / Non-Disclosed\",:].groupby(['SN']).sum()\n",
    "print(person_purchase_female[\"Price\"].mean())\n",
    "print(person_purchase_male[\"Price\"].mean())\n",
    "print(person_purchase_other[\"Price\"].mean())\n",
    "\n",
    "pag_output_df=pd.DataFrame({\"Gender\":[\"Female\",\"Male\",\"Other / Non-Disclosed\"],\n",
    "                           \"Purchase Count\":[purchase_count_gender.loc[\"Female\",\"Price\"],\n",
    "                                            purchase_count_gender.loc[\"Male\",\"Price\"],\n",
    "                                            purchase_count_gender.loc[\"Other / Non-Disclosed\",\"Price\"]],\n",
    "                            \"Average Purchase Price\":[\"${:,.2f}\".format(average_price_gender.loc[\"Female\",\"Price\"]),\n",
    "                                            \"${:,.2f}\".format(average_price_gender.loc[\"Male\",\"Price\"]),\n",
    "                                            \"${:,.2f}\".format(average_price_gender.loc[\"Other / Non-Disclosed\",\"Price\"])],\n",
    "                            \"Total Purchase Value\":[\"${:,.2f}\".format(purchase_total_gender.loc[\"Female\",\"Price\"]),\n",
    "                                            \"${:,.2f}\".format(purchase_total_gender.loc[\"Male\",\"Price\"]),\n",
    "                                            \"${:,.2f}\".format(purchase_total_gender.loc[\"Other / Non-Disclosed\",\"Price\"])],\n",
    "                            \"Average Purchase Total per Person by Gender\":[\"${:,.2f}\".format(person_purchase_female[\"Price\"].mean()),\n",
    "                                                                           \"${:,.2f}\".format(person_purchase_male[\"Price\"].mean()),\n",
    "                                                                           \"${:,.2f}\".format(person_purchase_other[\"Price\"].mean())]\n",
    "                           })\n",
    "pag_output_df"
   ]
  },
  {
   "cell_type": "code",
   "execution_count": null,
   "metadata": {},
   "outputs": [],
   "source": []
  },
  {
   "cell_type": "markdown",
   "metadata": {},
   "source": [
    "Age Demographics\n",
    "\n",
    "The below each broken into bins of 4 years (i.e. <10, 10-14, 15-19, etc.)\n",
    "\n",
    "Purchase Count\n",
    "Average Purchase Price\n",
    "Total Purchase Value\n",
    "Average Purchase Total per Person by Age Group"
   ]
  },
  {
   "cell_type": "code",
   "execution_count": null,
   "metadata": {},
   "outputs": [],
   "source": []
  },
  {
   "cell_type": "code",
   "execution_count": null,
   "metadata": {},
   "outputs": [],
   "source": []
  },
  {
   "cell_type": "markdown",
   "metadata": {},
   "source": [
    "Top Spenders\n",
    "\n",
    "Identify the the top 5 spenders in the game by total purchase value, then list (in a table):\n",
    "\n",
    "SN\n",
    "Purchase Count\n",
    "Average Purchase Price\n",
    "Total Purchase Value"
   ]
  },
  {
   "cell_type": "markdown",
   "metadata": {},
   "source": [
    "Most Popular Items\n",
    "\n",
    "Identify the 5 most popular items by purchase count, then list (in a table):\n",
    "\n",
    "Item ID\n",
    "Item Name\n",
    "Purchase Count\n",
    "Item Price\n",
    "Total Purchase Value"
   ]
  },
  {
   "cell_type": "markdown",
   "metadata": {},
   "source": [
    "Most Profitable Items\n",
    "\n",
    "Identify the 5 most profitable items by total purchase value, then list (in a table):\n",
    "\n",
    "Item ID\n",
    "Item Name\n",
    "Purchase Count\n",
    "Item Price\n",
    "Total Purchase Value"
   ]
  },
  {
   "cell_type": "markdown",
   "metadata": {},
   "source": [
    "As final considerations:\n",
    "\n",
    "You must use the Pandas Library and the Jupyter Notebook.\n",
    "You must submit a link to your Github/Git Lab repo that contains your Jupyter Notebook.\n",
    "You must include a written description of three observable trends based on the data.\n",
    "See Example Solution for a reference on expected format."
   ]
  },
  {
   "cell_type": "markdown",
   "metadata": {},
   "source": [
    "Hints and Considerations\n",
    "\n",
    "\n",
    "These are challenging activities for a number of reasons. For one, these activities will require you to analyze thousands of records. Hacking through the data to look for obvious trends in Excel is just not a feasible option. The size of the data may seem daunting, but pandas will allow you to efficiently parse through it.\n",
    "\n",
    "\n",
    "Second, these activities will also challenge you by requiring you to learn on your feet. Don't fool yourself into thinking: \"I need to study pandas more closely before diving in.\" Get the basic gist of the library and then immediately get to work. When facing a daunting task, it's easy to think: \"I'm just not ready to tackle it yet.\" But that's the surest way to never succeed. Learning to program requires one to constantly tinker, experiment, and learn on the fly. You are doing exactly the right thing, if you find yourself constantly practicing Google-Fu and diving into documentation. There is just no way (or reason) to try and memorize it all. Online references are available for you to use when you need them. So use them!\n",
    "\n",
    "\n",
    "Take each of these tasks one at a time. Begin your work, answering the basic questions: \"How do I import the data?\" \"How do I convert the data into a DataFrame?\" \"How do I build the first table?\" Don't get intimidated by the number of asks. Many of them are repetitive in nature with just a few tweaks. Be persistent and creative!\n",
    "\n",
    "\n",
    "Expect these exercises to take time! Don't get discouraged if you find yourself spending  hours initially with little progress. Force yourself to deal with the discomfort of not knowing and forge ahead. Consider these hours an investment in your future!\n",
    "\n",
    "\n",
    "As always, feel encouraged to work in groups and get help from your TAs and Instructor. Just remember, true success comes from mastery and not a completed homework assignment. So challenge yourself to truly succeed!\n",
    "\n",
    "\n",
    "Ensure your repository has regular commits (i.e. 20+ commits) and a thorough README.md file"
   ]
  }
 ],
 "metadata": {
  "kernelspec": {
   "display_name": "Python 3",
   "language": "python",
   "name": "python3"
  },
  "language_info": {
   "codemirror_mode": {
    "name": "ipython",
    "version": 3
   },
   "file_extension": ".py",
   "mimetype": "text/x-python",
   "name": "python",
   "nbconvert_exporter": "python",
   "pygments_lexer": "ipython3",
   "version": "3.8.5"
  }
 },
 "nbformat": 4,
 "nbformat_minor": 4
}
