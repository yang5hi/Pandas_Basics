{
 "cells": [
  {
   "cell_type": "markdown",
   "metadata": {},
   "source": [
    "# City Schools Test Results"
   ]
  },
  {
   "cell_type": "markdown",
   "metadata": {},
   "source": [
    "District Summary\n",
    "\n",
    "Create a high level snapshot (in table form) of the district's key metrics, including:\n",
    "\n",
    "Total Schools\n",
    "Total Students\n",
    "Total Budget\n",
    "Average Math Score\n",
    "Average Reading Score\n",
    "% Passing Math (The percentage of students that passed math.)\n",
    "% Passing Reading (The percentage of students that passed reading.)\n",
    "% Overall Passing (The percentage of students that passed math and reading.)"
   ]
  },
  {
   "cell_type": "markdown",
   "metadata": {},
   "source": [
    "School Summary\n",
    "\n",
    "Create an overview table that summarizes key metrics about each school, including:\n",
    "\n",
    "School Name\n",
    "School Type\n",
    "Total Students\n",
    "Total School Budget\n",
    "Per Student Budget\n",
    "Average Math Score\n",
    "Average Reading Score\n",
    "% Passing Math (The percentage of students that passed math.)\n",
    "% Passing Reading (The percentage of students that passed reading.)\n",
    "% Overall Passing (The percentage of students that passed math and reading.)"
   ]
  },
  {
   "cell_type": "markdown",
   "metadata": {},
   "source": [
    "Top Performing Schools (By % Overall Passing)\n",
    "\n",
    "Create a table that highlights the top 5 performing schools based on % Overall Passing. Include:\n",
    "\n",
    "School Name\n",
    "School Type\n",
    "Total Students\n",
    "Total School Budget\n",
    "Per Student Budget\n",
    "Average Math Score\n",
    "Average Reading Score\n",
    "% Passing Math (The percentage of students that passed math.)\n",
    "% Passing Reading (The percentage of students that passed reading.)\n",
    "% Overall Passing (The percentage of students that passed math and reading.)"
   ]
  },
  {
   "cell_type": "markdown",
   "metadata": {},
   "source": [
    "Math Scores by Grade**\n",
    "\n",
    "Create a table that lists the average Math Score for students of each grade level (9th, 10th, 11th, 12th) at each school.\n",
    "\n",
    "\n",
    "Reading Scores by Grade\n",
    "\n",
    "Create a table that lists the average Reading Score for students of each grade level (9th, 10th, 11th, 12th) at each school.\n",
    "\n",
    "\n",
    "Scores by School Spending\n",
    "\n",
    "Create a table that breaks down school performances based on average Spending Ranges (Per Student). Use 4 reasonable bins to group school spending. Include in the table each of the following:\n",
    "\n",
    "Average Math Score\n",
    "Average Reading Score\n",
    "% Passing Math (The percentage of students that passed math.)\n",
    "% Passing Reading (The percentage of students that passed reading.)\n",
    "% Overall Passing (The percentage of students that passed math and reading.)\n",
    "\n",
    "\n",
    "\n",
    "\n",
    "Scores by School Size\n",
    "\n",
    "Repeat the above breakdown, but this time group schools based on a reasonable approximation of school size (Small, Medium, Large).\n",
    "\n",
    "\n",
    "Scores by School Type\n",
    "\n",
    "Repeat the above breakdown, but this time group schools based on school type (Charter vs. District).\n",
    "\n",
    "As final considerations:\n",
    "\n",
    "Use the pandas library and Jupyter Notebook.\n",
    "You must submit a link to your Github/Git Lab repo that contains your Jupyter Notebook.\n",
    "You must include a written description of at least two observable trends based on the data.\n",
    "See Example Solution for a reference on the expected format."
   ]
  }
 ],
 "metadata": {
  "kernelspec": {
   "display_name": "Python 3",
   "language": "python",
   "name": "python3"
  },
  "language_info": {
   "codemirror_mode": {
    "name": "ipython",
    "version": 3
   },
   "file_extension": ".py",
   "mimetype": "text/x-python",
   "name": "python",
   "nbconvert_exporter": "python",
   "pygments_lexer": "ipython3",
   "version": "3.8.5"
  }
 },
 "nbformat": 4,
 "nbformat_minor": 4
}
